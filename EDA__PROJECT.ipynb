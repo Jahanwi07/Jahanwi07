{
  "cells": [
    {
      "cell_type": "markdown",
      "metadata": {
        "id": "view-in-github",
        "colab_type": "text"
      },
      "source": [
        "<a href=\"https://colab.research.google.com/github/Jahanwi07/Jahanwi07/blob/main/EDA__PROJECT.ipynb\" target=\"_parent\"><img src=\"https://colab.research.google.com/assets/colab-badge.svg\" alt=\"Open In Colab\"/></a>"
      ]
    },
    {
      "cell_type": "markdown",
      "id": "2b16e0d4",
      "metadata": {
        "id": "2b16e0d4"
      },
      "source": [
        "   # EDA on Myntra Clothing Fashion"
      ]
    },
    {
      "cell_type": "markdown",
      "id": "644c0beb",
      "metadata": {
        "id": "644c0beb"
      },
      "source": [
        "## Why this Project?"
      ]
    },
    {
      "cell_type": "markdown",
      "id": "18fd91a2",
      "metadata": {
        "id": "18fd91a2"
      },
      "source": [
        "### have chosen this Project because Fashion industry analysis seeks to understand how the fashion industry works. What the fashion trends are and what, why, which brands people are buying. It helps us in getting shopping trends awareness. We can analyse it based upon our interest i.e.,if we want then we can analyse the respected dress types as per their brands. On the other hand, analysing industry-wise analytics that study the whole market,such as fashion weeks,trends and customer habits. Thus,there are numerous things to analyse hence, my decision to take this project to work upon my interest."
      ]
    },
    {
      "cell_type": "markdown",
      "id": "d1dadcf5",
      "metadata": {
        "id": "d1dadcf5"
      },
      "source": [
        "## Information on Dataset"
      ]
    },
    {
      "cell_type": "markdown",
      "id": "9f1ecf2a",
      "metadata": {
        "id": "9f1ecf2a"
      },
      "source": [
        " - This data set is all about the clothing sector of Myntra online sites.\n",
        " - There are 526584 Rows and 13 columns.\n",
        " \n"
      ]
    },
    {
      "cell_type": "markdown",
      "id": "a94bff3c",
      "metadata": {
        "id": "a94bff3c"
      },
      "source": [
        "### following are the attributes of the dataset:-"
      ]
    },
    {
      "cell_type": "markdown",
      "id": "f761b201",
      "metadata": {
        "id": "f761b201"
      },
      "source": [
        "- url\n",
        "- product_id\n",
        "- BrandName \n",
        "- Category\n",
        "- Description\n",
        "- discountPrice\n",
        "- DiscountOffers\n",
        "- OriginalPrice\n",
        "- Reviews\n",
        "- Ratings"
      ]
    },
    {
      "cell_type": "markdown",
      "id": "44385e0b",
      "metadata": {
        "id": "44385e0b"
      },
      "source": [
        "## What is my Approach?"
      ]
    },
    {
      "cell_type": "markdown",
      "id": "0b11d646",
      "metadata": {
        "id": "0b11d646"
      },
      "source": [
        "- First import the Dataset.\n",
        "- Cleaning of Dataset like finding nulls , duplicates and if necessary then remove it.\n",
        "- Getting insights from the dataset.\n",
        "- Visualize the Dataset\n",
        "- Finding outliers \n",
        "- Performing  univariate , Bivariate and Multivariate analysis.\n",
        "- performing Co-relation matrices.\n",
        "\n"
      ]
    },
    {
      "cell_type": "markdown",
      "id": "d1bb55ec",
      "metadata": {
        "id": "d1bb55ec"
      },
      "source": [
        "## Now,We will import some libraries which will helps us in reading,cleaning and visualizing our data."
      ]
    },
    {
      "cell_type": "code",
      "execution_count": 4,
      "id": "5100689d",
      "metadata": {
        "id": "5100689d"
      },
      "outputs": [],
      "source": [
        "import pandas as pd\n",
        "#it helps in analysing dataset and creating dataframe.\n",
        "import numpy as np\n",
        "#This library is used for working numerical data like linear algebra,matrices and manymore.\n",
        "import matplotlib.pyplot as plt\n",
        "#Matplotlib is the most popular data visualization library which allows us to create figures,plotts.\n",
        "import seaborn as sns\n",
        "#it provides a high-level interface for drawing attractive and informative statistical graphics.\n"
      ]
    },
    {
      "cell_type": "markdown",
      "id": "cf8194f7",
      "metadata": {
        "id": "cf8194f7"
      },
      "source": [
        "## Loading the data."
      ]
    },
    {
      "cell_type": "code",
      "execution_count": 5,
      "id": "5eece7dc",
      "metadata": {
        "colab": {
          "base_uri": "https://localhost:8080/"
        },
        "id": "5eece7dc",
        "outputId": "687a8495-12a3-4a76-f56a-842371bc8aef"
      },
      "outputs": [
        {
          "output_type": "stream",
          "name": "stderr",
          "text": [
            "/usr/local/lib/python3.7/dist-packages/IPython/core/interactiveshell.py:3326: DtypeWarning: Columns (9) have mixed types.Specify dtype option on import or set low_memory=False.\n",
            "  exec(code_obj, self.user_global_ns, self.user_ns)\n"
          ]
        }
      ],
      "source": [
        " data=pd.read_csv(\"/content/drive/MyDrive/EDA PROJECT/Myntra Fasion Clothing.csv\")"
      ]
    },
    {
      "cell_type": "markdown",
      "id": "da7096db",
      "metadata": {
        "id": "da7096db"
      },
      "source": [
        "## Loading the first five data-"
      ]
    },
    {
      "cell_type": "code",
      "execution_count": 6,
      "id": "7cd63865",
      "metadata": {
        "colab": {
          "base_uri": "https://localhost:8080/",
          "height": 583
        },
        "id": "7cd63865",
        "outputId": "a95b39e6-375a-4eeb-f362-61a4c28566ac"
      },
      "outputs": [
        {
          "output_type": "execute_result",
          "data": {
            "text/plain": [
              "                                                 URL  Product_id   BrandName  \\\n",
              "0  https://www.myntra.com/jeans/roadster/roadster...     2296012    Roadster   \n",
              "1  https://www.myntra.com/track-pants/locomotive/...    13780156  LOCOMOTIVE   \n",
              "2  https://www.myntra.com/shirts/roadster/roadste...    11895958    Roadster   \n",
              "3  https://www.myntra.com/shapewear/zivame/zivame...     4335679      Zivame   \n",
              "4  https://www.myntra.com/tshirts/roadster/roadst...    11690882    Roadster   \n",
              "\n",
              "                Category Individual_category category_by_Gender  \\\n",
              "0            Bottom Wear               jeans                Men   \n",
              "1            Bottom Wear         track-pants                Men   \n",
              "2                Topwear              shirts                Men   \n",
              "3  Lingerie & Sleep Wear           shapewear              Women   \n",
              "4                Western             tshirts              Women   \n",
              "\n",
              "                                         Description  DiscountPrice (in Rs)  \\\n",
              "0  roadster men navy blue slim fit mid rise clean...                  824.0   \n",
              "1  locomotive men black  white solid slim fit tra...                  517.0   \n",
              "2  roadster men navy white  black geometric print...                  629.0   \n",
              "3  zivame women black saree shapewear zi3023core0...                  893.0   \n",
              "4  roadster women white solid v neck pure cotton ...                    NaN   \n",
              "\n",
              "   OriginalPrice (in Rs) DiscountOffer              SizeOption  Ratings  \\\n",
              "0                 1499.0       45% OFF      28, 30, 32, 34, 36      3.9   \n",
              "1                 1149.0       55% OFF             S, M, L, XL      4.0   \n",
              "2                 1399.0       55% OFF  38, 40, 42, 44, 46, 48      4.3   \n",
              "3                 1295.0       31% OFF        S, M, L, XL, XXL      4.2   \n",
              "4                  599.0       35% OFF         XS, S, M, L, XL      4.2   \n",
              "\n",
              "   Reviews  \n",
              "0    999.0  \n",
              "1    999.0  \n",
              "2    999.0  \n",
              "3    999.0  \n",
              "4    999.0  "
            ],
            "text/html": [
              "\n",
              "  <div id=\"df-801eaf1d-f900-4329-94ee-14223cbb583a\">\n",
              "    <div class=\"colab-df-container\">\n",
              "      <div>\n",
              "<style scoped>\n",
              "    .dataframe tbody tr th:only-of-type {\n",
              "        vertical-align: middle;\n",
              "    }\n",
              "\n",
              "    .dataframe tbody tr th {\n",
              "        vertical-align: top;\n",
              "    }\n",
              "\n",
              "    .dataframe thead th {\n",
              "        text-align: right;\n",
              "    }\n",
              "</style>\n",
              "<table border=\"1\" class=\"dataframe\">\n",
              "  <thead>\n",
              "    <tr style=\"text-align: right;\">\n",
              "      <th></th>\n",
              "      <th>URL</th>\n",
              "      <th>Product_id</th>\n",
              "      <th>BrandName</th>\n",
              "      <th>Category</th>\n",
              "      <th>Individual_category</th>\n",
              "      <th>category_by_Gender</th>\n",
              "      <th>Description</th>\n",
              "      <th>DiscountPrice (in Rs)</th>\n",
              "      <th>OriginalPrice (in Rs)</th>\n",
              "      <th>DiscountOffer</th>\n",
              "      <th>SizeOption</th>\n",
              "      <th>Ratings</th>\n",
              "      <th>Reviews</th>\n",
              "    </tr>\n",
              "  </thead>\n",
              "  <tbody>\n",
              "    <tr>\n",
              "      <th>0</th>\n",
              "      <td>https://www.myntra.com/jeans/roadster/roadster...</td>\n",
              "      <td>2296012</td>\n",
              "      <td>Roadster</td>\n",
              "      <td>Bottom Wear</td>\n",
              "      <td>jeans</td>\n",
              "      <td>Men</td>\n",
              "      <td>roadster men navy blue slim fit mid rise clean...</td>\n",
              "      <td>824.0</td>\n",
              "      <td>1499.0</td>\n",
              "      <td>45% OFF</td>\n",
              "      <td>28, 30, 32, 34, 36</td>\n",
              "      <td>3.9</td>\n",
              "      <td>999.0</td>\n",
              "    </tr>\n",
              "    <tr>\n",
              "      <th>1</th>\n",
              "      <td>https://www.myntra.com/track-pants/locomotive/...</td>\n",
              "      <td>13780156</td>\n",
              "      <td>LOCOMOTIVE</td>\n",
              "      <td>Bottom Wear</td>\n",
              "      <td>track-pants</td>\n",
              "      <td>Men</td>\n",
              "      <td>locomotive men black  white solid slim fit tra...</td>\n",
              "      <td>517.0</td>\n",
              "      <td>1149.0</td>\n",
              "      <td>55% OFF</td>\n",
              "      <td>S, M, L, XL</td>\n",
              "      <td>4.0</td>\n",
              "      <td>999.0</td>\n",
              "    </tr>\n",
              "    <tr>\n",
              "      <th>2</th>\n",
              "      <td>https://www.myntra.com/shirts/roadster/roadste...</td>\n",
              "      <td>11895958</td>\n",
              "      <td>Roadster</td>\n",
              "      <td>Topwear</td>\n",
              "      <td>shirts</td>\n",
              "      <td>Men</td>\n",
              "      <td>roadster men navy white  black geometric print...</td>\n",
              "      <td>629.0</td>\n",
              "      <td>1399.0</td>\n",
              "      <td>55% OFF</td>\n",
              "      <td>38, 40, 42, 44, 46, 48</td>\n",
              "      <td>4.3</td>\n",
              "      <td>999.0</td>\n",
              "    </tr>\n",
              "    <tr>\n",
              "      <th>3</th>\n",
              "      <td>https://www.myntra.com/shapewear/zivame/zivame...</td>\n",
              "      <td>4335679</td>\n",
              "      <td>Zivame</td>\n",
              "      <td>Lingerie &amp; Sleep Wear</td>\n",
              "      <td>shapewear</td>\n",
              "      <td>Women</td>\n",
              "      <td>zivame women black saree shapewear zi3023core0...</td>\n",
              "      <td>893.0</td>\n",
              "      <td>1295.0</td>\n",
              "      <td>31% OFF</td>\n",
              "      <td>S, M, L, XL, XXL</td>\n",
              "      <td>4.2</td>\n",
              "      <td>999.0</td>\n",
              "    </tr>\n",
              "    <tr>\n",
              "      <th>4</th>\n",
              "      <td>https://www.myntra.com/tshirts/roadster/roadst...</td>\n",
              "      <td>11690882</td>\n",
              "      <td>Roadster</td>\n",
              "      <td>Western</td>\n",
              "      <td>tshirts</td>\n",
              "      <td>Women</td>\n",
              "      <td>roadster women white solid v neck pure cotton ...</td>\n",
              "      <td>NaN</td>\n",
              "      <td>599.0</td>\n",
              "      <td>35% OFF</td>\n",
              "      <td>XS, S, M, L, XL</td>\n",
              "      <td>4.2</td>\n",
              "      <td>999.0</td>\n",
              "    </tr>\n",
              "  </tbody>\n",
              "</table>\n",
              "</div>\n",
              "      <button class=\"colab-df-convert\" onclick=\"convertToInteractive('df-801eaf1d-f900-4329-94ee-14223cbb583a')\"\n",
              "              title=\"Convert this dataframe to an interactive table.\"\n",
              "              style=\"display:none;\">\n",
              "        \n",
              "  <svg xmlns=\"http://www.w3.org/2000/svg\" height=\"24px\"viewBox=\"0 0 24 24\"\n",
              "       width=\"24px\">\n",
              "    <path d=\"M0 0h24v24H0V0z\" fill=\"none\"/>\n",
              "    <path d=\"M18.56 5.44l.94 2.06.94-2.06 2.06-.94-2.06-.94-.94-2.06-.94 2.06-2.06.94zm-11 1L8.5 8.5l.94-2.06 2.06-.94-2.06-.94L8.5 2.5l-.94 2.06-2.06.94zm10 10l.94 2.06.94-2.06 2.06-.94-2.06-.94-.94-2.06-.94 2.06-2.06.94z\"/><path d=\"M17.41 7.96l-1.37-1.37c-.4-.4-.92-.59-1.43-.59-.52 0-1.04.2-1.43.59L10.3 9.45l-7.72 7.72c-.78.78-.78 2.05 0 2.83L4 21.41c.39.39.9.59 1.41.59.51 0 1.02-.2 1.41-.59l7.78-7.78 2.81-2.81c.8-.78.8-2.07 0-2.86zM5.41 20L4 18.59l7.72-7.72 1.47 1.35L5.41 20z\"/>\n",
              "  </svg>\n",
              "      </button>\n",
              "      \n",
              "  <style>\n",
              "    .colab-df-container {\n",
              "      display:flex;\n",
              "      flex-wrap:wrap;\n",
              "      gap: 12px;\n",
              "    }\n",
              "\n",
              "    .colab-df-convert {\n",
              "      background-color: #E8F0FE;\n",
              "      border: none;\n",
              "      border-radius: 50%;\n",
              "      cursor: pointer;\n",
              "      display: none;\n",
              "      fill: #1967D2;\n",
              "      height: 32px;\n",
              "      padding: 0 0 0 0;\n",
              "      width: 32px;\n",
              "    }\n",
              "\n",
              "    .colab-df-convert:hover {\n",
              "      background-color: #E2EBFA;\n",
              "      box-shadow: 0px 1px 2px rgba(60, 64, 67, 0.3), 0px 1px 3px 1px rgba(60, 64, 67, 0.15);\n",
              "      fill: #174EA6;\n",
              "    }\n",
              "\n",
              "    [theme=dark] .colab-df-convert {\n",
              "      background-color: #3B4455;\n",
              "      fill: #D2E3FC;\n",
              "    }\n",
              "\n",
              "    [theme=dark] .colab-df-convert:hover {\n",
              "      background-color: #434B5C;\n",
              "      box-shadow: 0px 1px 3px 1px rgba(0, 0, 0, 0.15);\n",
              "      filter: drop-shadow(0px 1px 2px rgba(0, 0, 0, 0.3));\n",
              "      fill: #FFFFFF;\n",
              "    }\n",
              "  </style>\n",
              "\n",
              "      <script>\n",
              "        const buttonEl =\n",
              "          document.querySelector('#df-801eaf1d-f900-4329-94ee-14223cbb583a button.colab-df-convert');\n",
              "        buttonEl.style.display =\n",
              "          google.colab.kernel.accessAllowed ? 'block' : 'none';\n",
              "\n",
              "        async function convertToInteractive(key) {\n",
              "          const element = document.querySelector('#df-801eaf1d-f900-4329-94ee-14223cbb583a');\n",
              "          const dataTable =\n",
              "            await google.colab.kernel.invokeFunction('convertToInteractive',\n",
              "                                                     [key], {});\n",
              "          if (!dataTable) return;\n",
              "\n",
              "          const docLinkHtml = 'Like what you see? Visit the ' +\n",
              "            '<a target=\"_blank\" href=https://colab.research.google.com/notebooks/data_table.ipynb>data table notebook</a>'\n",
              "            + ' to learn more about interactive tables.';\n",
              "          element.innerHTML = '';\n",
              "          dataTable['output_type'] = 'display_data';\n",
              "          await google.colab.output.renderOutput(dataTable, element);\n",
              "          const docLink = document.createElement('div');\n",
              "          docLink.innerHTML = docLinkHtml;\n",
              "          element.appendChild(docLink);\n",
              "        }\n",
              "      </script>\n",
              "    </div>\n",
              "  </div>\n",
              "  "
            ]
          },
          "metadata": {},
          "execution_count": 6
        }
      ],
      "source": [
        "data.head()"
      ]
    },
    {
      "cell_type": "markdown",
      "id": "a74c1573",
      "metadata": {
        "id": "a74c1573"
      },
      "source": [
        "## Size of the data"
      ]
    },
    {
      "cell_type": "code",
      "execution_count": null,
      "id": "3c3c025d",
      "metadata": {
        "id": "3c3c025d",
        "outputId": "abea5b3f-4cab-4f6e-e5b8-64d658040d5f"
      },
      "outputs": [
        {
          "data": {
            "text/plain": [
              "(526564, 13)"
            ]
          },
          "execution_count": 4,
          "metadata": {},
          "output_type": "execute_result"
        }
      ],
      "source": [
        "data.shape"
      ]
    },
    {
      "cell_type": "markdown",
      "id": "11394086",
      "metadata": {
        "id": "11394086"
      },
      "source": [
        "## Description of dataset"
      ]
    },
    {
      "cell_type": "code",
      "execution_count": null,
      "id": "4b8c5891",
      "metadata": {
        "id": "4b8c5891",
        "outputId": "cb5dc9e0-c99a-40bf-c877-b151be8b1388"
      },
      "outputs": [
        {
          "data": {
            "text/html": [
              "<div>\n",
              "<style scoped>\n",
              "    .dataframe tbody tr th:only-of-type {\n",
              "        vertical-align: middle;\n",
              "    }\n",
              "\n",
              "    .dataframe tbody tr th {\n",
              "        vertical-align: top;\n",
              "    }\n",
              "\n",
              "    .dataframe thead th {\n",
              "        text-align: right;\n",
              "    }\n",
              "</style>\n",
              "<table border=\"1\" class=\"dataframe\">\n",
              "  <thead>\n",
              "    <tr style=\"text-align: right;\">\n",
              "      <th></th>\n",
              "      <th>Product_id</th>\n",
              "      <th>DiscountPrice (in Rs)</th>\n",
              "      <th>OriginalPrice (in Rs)</th>\n",
              "      <th>Ratings</th>\n",
              "      <th>Reviews</th>\n",
              "    </tr>\n",
              "  </thead>\n",
              "  <tbody>\n",
              "    <tr>\n",
              "      <th>count</th>\n",
              "      <td>5.265640e+05</td>\n",
              "      <td>333406.000000</td>\n",
              "      <td>526564.000000</td>\n",
              "      <td>190412.000000</td>\n",
              "      <td>190412.000000</td>\n",
              "    </tr>\n",
              "    <tr>\n",
              "      <th>mean</th>\n",
              "      <td>1.506939e+07</td>\n",
              "      <td>1237.444401</td>\n",
              "      <td>2414.068615</td>\n",
              "      <td>4.094892</td>\n",
              "      <td>61.990820</td>\n",
              "    </tr>\n",
              "    <tr>\n",
              "      <th>std</th>\n",
              "      <td>3.225710e+06</td>\n",
              "      <td>1052.063517</td>\n",
              "      <td>1916.962914</td>\n",
              "      <td>0.494158</td>\n",
              "      <td>125.714537</td>\n",
              "    </tr>\n",
              "    <tr>\n",
              "      <th>min</th>\n",
              "      <td>2.739900e+04</td>\n",
              "      <td>127.000000</td>\n",
              "      <td>99.000000</td>\n",
              "      <td>1.000000</td>\n",
              "      <td>0.000000</td>\n",
              "    </tr>\n",
              "    <tr>\n",
              "      <th>25%</th>\n",
              "      <td>1.388053e+07</td>\n",
              "      <td>659.000000</td>\n",
              "      <td>1299.000000</td>\n",
              "      <td>3.900000</td>\n",
              "      <td>8.000000</td>\n",
              "    </tr>\n",
              "    <tr>\n",
              "      <th>50%</th>\n",
              "      <td>1.597106e+07</td>\n",
              "      <td>952.000000</td>\n",
              "      <td>1999.000000</td>\n",
              "      <td>4.200000</td>\n",
              "      <td>18.000000</td>\n",
              "    </tr>\n",
              "    <tr>\n",
              "      <th>75%</th>\n",
              "      <td>1.734741e+07</td>\n",
              "      <td>1469.000000</td>\n",
              "      <td>2899.000000</td>\n",
              "      <td>4.400000</td>\n",
              "      <td>52.000000</td>\n",
              "    </tr>\n",
              "    <tr>\n",
              "      <th>max</th>\n",
              "      <td>1.846435e+07</td>\n",
              "      <td>27996.000000</td>\n",
              "      <td>90000.000000</td>\n",
              "      <td>5.000000</td>\n",
              "      <td>999.000000</td>\n",
              "    </tr>\n",
              "  </tbody>\n",
              "</table>\n",
              "</div>"
            ],
            "text/plain": [
              "         Product_id  DiscountPrice (in Rs)  OriginalPrice (in Rs)  \\\n",
              "count  5.265640e+05          333406.000000          526564.000000   \n",
              "mean   1.506939e+07            1237.444401            2414.068615   \n",
              "std    3.225710e+06            1052.063517            1916.962914   \n",
              "min    2.739900e+04             127.000000              99.000000   \n",
              "25%    1.388053e+07             659.000000            1299.000000   \n",
              "50%    1.597106e+07             952.000000            1999.000000   \n",
              "75%    1.734741e+07            1469.000000            2899.000000   \n",
              "max    1.846435e+07           27996.000000           90000.000000   \n",
              "\n",
              "             Ratings        Reviews  \n",
              "count  190412.000000  190412.000000  \n",
              "mean        4.094892      61.990820  \n",
              "std         0.494158     125.714537  \n",
              "min         1.000000       0.000000  \n",
              "25%         3.900000       8.000000  \n",
              "50%         4.200000      18.000000  \n",
              "75%         4.400000      52.000000  \n",
              "max         5.000000     999.000000  "
            ]
          },
          "execution_count": 5,
          "metadata": {},
          "output_type": "execute_result"
        }
      ],
      "source": [
        "data.describe()"
      ]
    },
    {
      "cell_type": "markdown",
      "id": "9fe611aa",
      "metadata": {
        "id": "9fe611aa"
      },
      "source": [
        "## info() function gives basic information of a dataframe object such as its types, index value, no of rows and no of columns."
      ]
    },
    {
      "cell_type": "code",
      "execution_count": null,
      "id": "77961691",
      "metadata": {
        "id": "77961691",
        "outputId": "da3d48a9-0d24-40f5-f840-257821a0aa33"
      },
      "outputs": [
        {
          "name": "stdout",
          "output_type": "stream",
          "text": [
            "<class 'pandas.core.frame.DataFrame'>\n",
            "RangeIndex: 526564 entries, 0 to 526563\n",
            "Data columns (total 13 columns):\n",
            " #   Column                 Non-Null Count   Dtype  \n",
            "---  ------                 --------------   -----  \n",
            " 0   URL                    526564 non-null  object \n",
            " 1   Product_id             526564 non-null  int64  \n",
            " 2   BrandName              526564 non-null  object \n",
            " 3   Category               526564 non-null  object \n",
            " 4   Individual_category    526564 non-null  object \n",
            " 5   category_by_Gender     526564 non-null  object \n",
            " 6   Description            526564 non-null  object \n",
            " 7   DiscountPrice (in Rs)  333406 non-null  float64\n",
            " 8   OriginalPrice (in Rs)  526564 non-null  float64\n",
            " 9   DiscountOffer          452258 non-null  object \n",
            " 10  SizeOption             526564 non-null  object \n",
            " 11  Ratings                190412 non-null  float64\n",
            " 12  Reviews                190412 non-null  float64\n",
            "dtypes: float64(4), int64(1), object(8)\n",
            "memory usage: 52.2+ MB\n"
          ]
        }
      ],
      "source": [
        "data.info()"
      ]
    },
    {
      "cell_type": "markdown",
      "id": "fe28b185",
      "metadata": {
        "id": "fe28b185"
      },
      "source": [
        "### Count() returns the number of times an object appears in the list."
      ]
    },
    {
      "cell_type": "code",
      "execution_count": null,
      "id": "defca8d3",
      "metadata": {
        "id": "defca8d3",
        "outputId": "9e019586-78ef-45d3-88ce-c8f84c8e5eb3"
      },
      "outputs": [
        {
          "data": {
            "text/plain": [
              "URL                      526564\n",
              "Product_id               526564\n",
              "BrandName                526564\n",
              "Category                 526564\n",
              "Individual_category      526564\n",
              "category_by_Gender       526564\n",
              "Description              526564\n",
              "DiscountPrice (in Rs)    333406\n",
              "OriginalPrice (in Rs)    526564\n",
              "DiscountOffer            452258\n",
              "SizeOption               526564\n",
              "Ratings                  190412\n",
              "Reviews                  190412\n",
              "dtype: int64"
            ]
          },
          "execution_count": 7,
          "metadata": {},
          "output_type": "execute_result"
        }
      ],
      "source": [
        "data.count()"
      ]
    },
    {
      "cell_type": "markdown",
      "id": "0b1896d7",
      "metadata": {
        "id": "0b1896d7"
      },
      "source": [
        "### Duplicated() used to find the duplicates rows.\n",
        "- if it shows false then it means no duplicates are found.\n",
        "- if it shows true then it means duplicates are found."
      ]
    },
    {
      "cell_type": "code",
      "execution_count": null,
      "id": "54ac972c",
      "metadata": {
        "id": "54ac972c",
        "outputId": "64b56c53-a9e7-4217-9212-355d462d6ad2"
      },
      "outputs": [
        {
          "data": {
            "text/plain": [
              "0         False\n",
              "1         False\n",
              "2         False\n",
              "3         False\n",
              "4         False\n",
              "          ...  \n",
              "526559    False\n",
              "526560    False\n",
              "526561    False\n",
              "526562    False\n",
              "526563    False\n",
              "Length: 526564, dtype: bool"
            ]
          },
          "execution_count": 8,
          "metadata": {},
          "output_type": "execute_result"
        }
      ],
      "source": [
        "data.duplicated()"
      ]
    },
    {
      "cell_type": "markdown",
      "id": "1f335e29",
      "metadata": {
        "id": "1f335e29"
      },
      "source": [
        "#### so here is no True value so we can say there is no duplicate rows."
      ]
    },
    {
      "cell_type": "markdown",
      "id": "157a6c0b",
      "metadata": {
        "id": "157a6c0b"
      },
      "source": [
        "# Data Cleaning"
      ]
    },
    {
      "cell_type": "markdown",
      "id": "511da93c",
      "metadata": {
        "id": "511da93c"
      },
      "source": [
        "## Checking for Missing Values-"
      ]
    },
    {
      "cell_type": "markdown",
      "id": "752c6832",
      "metadata": {
        "id": "752c6832"
      },
      "source": [
        "### Isnull() indicates whether the an expression contains null data."
      ]
    },
    {
      "cell_type": "code",
      "execution_count": null,
      "id": "96d5dbab",
      "metadata": {
        "id": "96d5dbab",
        "outputId": "6aa7d93a-e214-4013-eeeb-d5cacf4f0bdf"
      },
      "outputs": [
        {
          "data": {
            "text/plain": [
              "URL                           0\n",
              "Product_id                    0\n",
              "BrandName                     0\n",
              "Category                      0\n",
              "Individual_category           0\n",
              "category_by_Gender            0\n",
              "Description                   0\n",
              "DiscountPrice (in Rs)    193158\n",
              "OriginalPrice (in Rs)         0\n",
              "DiscountOffer             74306\n",
              "SizeOption                    0\n",
              "Ratings                  336152\n",
              "Reviews                  336152\n",
              "dtype: int64"
            ]
          },
          "execution_count": 9,
          "metadata": {},
          "output_type": "execute_result"
        }
      ],
      "source": [
        "data.isnull().sum()"
      ]
    },
    {
      "cell_type": "markdown",
      "id": "c6a4a4ee",
      "metadata": {
        "id": "c6a4a4ee"
      },
      "source": [
        "## so here as we can see our four columns has some missing values.\n",
        "- DiscountPrice (in Rs) \n",
        "- DiscountOffer \n",
        "- Ratings\n",
        "- Reviews"
      ]
    },
    {
      "cell_type": "markdown",
      "id": "772ad5d2",
      "metadata": {
        "id": "772ad5d2"
      },
      "source": [
        "## Handling Missing Values"
      ]
    },
    {
      "cell_type": "markdown",
      "id": "61c564d0",
      "metadata": {
        "id": "61c564d0"
      },
      "source": [
        "## RATINGS"
      ]
    },
    {
      "cell_type": "markdown",
      "id": "c6f715cd",
      "metadata": {
        "id": "c6f715cd"
      },
      "source": [
        "### Now we will handle the missing values of Ratings-"
      ]
    },
    {
      "cell_type": "code",
      "execution_count": null,
      "id": "b09b0b04",
      "metadata": {
        "id": "b09b0b04",
        "outputId": "85c0c105-cb47-4852-fe6b-ba6e09f645dc"
      },
      "outputs": [
        {
          "data": {
            "text/plain": [
              "336152"
            ]
          },
          "execution_count": 10,
          "metadata": {},
          "output_type": "execute_result"
        }
      ],
      "source": [
        "data.Ratings.isnull().sum()"
      ]
    },
    {
      "cell_type": "markdown",
      "id": "6f471a87",
      "metadata": {
        "id": "6f471a87"
      },
      "source": [
        "### Check the %age of missing value in Ratings"
      ]
    },
    {
      "cell_type": "code",
      "execution_count": null,
      "id": "8c7c5d43",
      "metadata": {
        "id": "8c7c5d43",
        "outputId": "b0ab02e2-a8e3-4abf-f62e-17b493036d8a"
      },
      "outputs": [
        {
          "data": {
            "text/plain": [
              "63.83877363435404"
            ]
          },
          "execution_count": 10,
          "metadata": {},
          "output_type": "execute_result"
        }
      ],
      "source": [
        "float(100.0*336152/526564)"
      ]
    },
    {
      "cell_type": "markdown",
      "id": "42448269",
      "metadata": {
        "id": "42448269"
      },
      "source": [
        "### As we can see here Ratings missing values %age is high so we can't drop it.Hence we will look for different method to handle this."
      ]
    },
    {
      "cell_type": "code",
      "execution_count": null,
      "id": "af07c7fe",
      "metadata": {
        "id": "af07c7fe",
        "outputId": "15bba7fa-2e7d-43a8-981b-bda3f827968d"
      },
      "outputs": [
        {
          "data": {
            "text/plain": [
              "count    190412.000000\n",
              "mean          4.094892\n",
              "std           0.494158\n",
              "min           1.000000\n",
              "25%           3.900000\n",
              "50%           4.200000\n",
              "75%           4.400000\n",
              "max           5.000000\n",
              "Name: Ratings, dtype: float64"
            ]
          },
          "execution_count": 11,
          "metadata": {},
          "output_type": "execute_result"
        }
      ],
      "source": [
        "data.Ratings.describe()"
      ]
    },
    {
      "cell_type": "markdown",
      "id": "9aed5d2b",
      "metadata": {
        "id": "9aed5d2b"
      },
      "source": [
        "### Here Rating data is numeric so we will use its mean fill the missin the missing values."
      ]
    },
    {
      "cell_type": "code",
      "execution_count": null,
      "id": "e82c6222",
      "metadata": {
        "id": "e82c6222"
      },
      "outputs": [],
      "source": [
        "Ratings_mean=data.Ratings.mean()"
      ]
    },
    {
      "cell_type": "markdown",
      "id": "e6e6b30f",
      "metadata": {
        "id": "e6e6b30f"
      },
      "source": [
        "### Fill the Ratings missing value with its mean"
      ]
    },
    {
      "cell_type": "code",
      "execution_count": null,
      "id": "6b212a99",
      "metadata": {
        "id": "6b212a99"
      },
      "outputs": [],
      "source": [
        "data.Ratings.fillna(Ratings_mean, inplace=True)"
      ]
    },
    {
      "cell_type": "markdown",
      "id": "029cce2c",
      "metadata": {
        "id": "029cce2c"
      },
      "source": [
        "### After filling the null values with the mean we will cross check of its presence."
      ]
    },
    {
      "cell_type": "code",
      "execution_count": null,
      "id": "3c379cca",
      "metadata": {
        "id": "3c379cca",
        "outputId": "0662f5b4-a764-4dea-91ad-37a0d435cbd4"
      },
      "outputs": [
        {
          "data": {
            "text/plain": [
              "0"
            ]
          },
          "execution_count": 14,
          "metadata": {},
          "output_type": "execute_result"
        }
      ],
      "source": [
        "data.Ratings.isnull().sum()"
      ]
    },
    {
      "cell_type": "markdown",
      "id": "8c7e1710",
      "metadata": {
        "id": "8c7e1710"
      },
      "source": [
        "### Here, isnull().sum() gives 0 so we can say now there is no null value."
      ]
    },
    {
      "cell_type": "markdown",
      "id": "d1daaa6e",
      "metadata": {
        "id": "d1daaa6e"
      },
      "source": [
        "## REVIEWS"
      ]
    },
    {
      "cell_type": "markdown",
      "id": "e228b5f1",
      "metadata": {
        "id": "e228b5f1"
      },
      "source": [
        "### Handling the missing values of Reviews colum-"
      ]
    },
    {
      "cell_type": "markdown",
      "id": "2de57311",
      "metadata": {
        "id": "2de57311"
      },
      "source": [
        "#### first we are gonna check the null values in the Reviews column-"
      ]
    },
    {
      "cell_type": "code",
      "execution_count": null,
      "id": "c4d8588d",
      "metadata": {
        "id": "c4d8588d",
        "outputId": "00d093c8-bb99-42bf-977a-38c6b217968c"
      },
      "outputs": [
        {
          "data": {
            "text/plain": [
              "336152"
            ]
          },
          "execution_count": 15,
          "metadata": {},
          "output_type": "execute_result"
        }
      ],
      "source": [
        "data.Reviews.isnull().sum()"
      ]
    },
    {
      "cell_type": "markdown",
      "id": "53bbd288",
      "metadata": {
        "id": "53bbd288"
      },
      "source": [
        "#### check the %age of missing value."
      ]
    },
    {
      "cell_type": "code",
      "execution_count": null,
      "id": "26a0df43",
      "metadata": {
        "id": "26a0df43",
        "outputId": "058a0650-daf0-4eb0-ed6a-2bcd4519c855"
      },
      "outputs": [
        {
          "data": {
            "text/plain": [
              "63.83877363435404"
            ]
          },
          "execution_count": 16,
          "metadata": {},
          "output_type": "execute_result"
        }
      ],
      "source": [
        "float(100.0*336152/526564)"
      ]
    },
    {
      "cell_type": "markdown",
      "id": "f9707e1b",
      "metadata": {
        "id": "f9707e1b"
      },
      "source": [
        "## Here is %age is quite high so we cant drop this section but we can impute the missing value with its mean value as Review is in numerical criteria."
      ]
    },
    {
      "cell_type": "markdown",
      "id": "e7e95275",
      "metadata": {
        "id": "e7e95275"
      },
      "source": [
        "## find the mean of the Review Column and put it in another variable."
      ]
    },
    {
      "cell_type": "code",
      "execution_count": null,
      "id": "ac3a603a",
      "metadata": {
        "id": "ac3a603a"
      },
      "outputs": [],
      "source": [
        "Reviews_mean=data.Reviews.mean()"
      ]
    },
    {
      "cell_type": "markdown",
      "id": "41f5c711",
      "metadata": {
        "id": "41f5c711"
      },
      "source": [
        "#### Now, fill the missing section of Review with its mean value."
      ]
    },
    {
      "cell_type": "code",
      "execution_count": null,
      "id": "afc60e0e",
      "metadata": {
        "id": "afc60e0e"
      },
      "outputs": [],
      "source": [
        "data.Reviews.fillna(Reviews_mean, inplace= True)"
      ]
    },
    {
      "cell_type": "code",
      "execution_count": null,
      "id": "e90dbae0",
      "metadata": {
        "id": "e90dbae0",
        "outputId": "b629d6ed-8cc5-48a5-8572-87b97d5479ba"
      },
      "outputs": [
        {
          "data": {
            "text/plain": [
              "0"
            ]
          },
          "execution_count": 19,
          "metadata": {},
          "output_type": "execute_result"
        }
      ],
      "source": [
        "data.Reviews.isnull().sum()"
      ]
    },
    {
      "cell_type": "markdown",
      "id": "259233f5",
      "metadata": {
        "id": "259233f5"
      },
      "source": [
        "## DISCOUNT PRICE"
      ]
    },
    {
      "cell_type": "markdown",
      "id": "a303446b",
      "metadata": {
        "id": "a303446b"
      },
      "source": [
        "#### Handling the Discount Price."
      ]
    },
    {
      "cell_type": "markdown",
      "id": "fc2e0424",
      "metadata": {
        "id": "fc2e0424"
      },
      "source": [
        "#### Here Discount offer is in combination of string , integer and symbol so we will split and get our integer for our easy calculation."
      ]
    },
    {
      "cell_type": "markdown",
      "id": "deb84dab",
      "metadata": {
        "id": "deb84dab"
      },
      "source": [
        "#### we are going to use rename() to change the existing name of the column because previous column name DiscountPrice (RS) showing invalid syntax."
      ]
    },
    {
      "cell_type": "code",
      "execution_count": null,
      "id": "30382c95",
      "metadata": {
        "id": "30382c95"
      },
      "outputs": [],
      "source": [
        "data1=data.rename(columns = {'DiscountPrice (in Rs)':'DiscountPrice'})"
      ]
    },
    {
      "cell_type": "markdown",
      "id": "22083f44",
      "metadata": {
        "id": "22083f44"
      },
      "source": [
        "### Lets check whether column name has Changed or not."
      ]
    },
    {
      "cell_type": "code",
      "execution_count": null,
      "id": "9735f881",
      "metadata": {
        "id": "9735f881",
        "outputId": "60e1fbb3-3cd3-4daf-c860-5d2c3c22c3ef"
      },
      "outputs": [
        {
          "data": {
            "text/html": [
              "<div>\n",
              "<style scoped>\n",
              "    .dataframe tbody tr th:only-of-type {\n",
              "        vertical-align: middle;\n",
              "    }\n",
              "\n",
              "    .dataframe tbody tr th {\n",
              "        vertical-align: top;\n",
              "    }\n",
              "\n",
              "    .dataframe thead th {\n",
              "        text-align: right;\n",
              "    }\n",
              "</style>\n",
              "<table border=\"1\" class=\"dataframe\">\n",
              "  <thead>\n",
              "    <tr style=\"text-align: right;\">\n",
              "      <th></th>\n",
              "      <th>URL</th>\n",
              "      <th>Product_id</th>\n",
              "      <th>BrandName</th>\n",
              "      <th>Category</th>\n",
              "      <th>Individual_category</th>\n",
              "      <th>category_by_Gender</th>\n",
              "      <th>Description</th>\n",
              "      <th>DiscountPrice</th>\n",
              "      <th>OriginalPrice (in Rs)</th>\n",
              "      <th>DiscountOffer</th>\n",
              "      <th>SizeOption</th>\n",
              "      <th>Ratings</th>\n",
              "      <th>Reviews</th>\n",
              "    </tr>\n",
              "  </thead>\n",
              "  <tbody>\n",
              "    <tr>\n",
              "      <th>0</th>\n",
              "      <td>https://www.myntra.com/jeans/roadster/roadster...</td>\n",
              "      <td>2296012</td>\n",
              "      <td>Roadster</td>\n",
              "      <td>Bottom Wear</td>\n",
              "      <td>jeans</td>\n",
              "      <td>Men</td>\n",
              "      <td>roadster men navy blue slim fit mid rise clean...</td>\n",
              "      <td>824.0</td>\n",
              "      <td>1499.0</td>\n",
              "      <td>45% OFF</td>\n",
              "      <td>28, 30, 32, 34, 36</td>\n",
              "      <td>3.9</td>\n",
              "      <td>999.0</td>\n",
              "    </tr>\n",
              "    <tr>\n",
              "      <th>1</th>\n",
              "      <td>https://www.myntra.com/track-pants/locomotive/...</td>\n",
              "      <td>13780156</td>\n",
              "      <td>LOCOMOTIVE</td>\n",
              "      <td>Bottom Wear</td>\n",
              "      <td>track-pants</td>\n",
              "      <td>Men</td>\n",
              "      <td>locomotive men black  white solid slim fit tra...</td>\n",
              "      <td>517.0</td>\n",
              "      <td>1149.0</td>\n",
              "      <td>55% OFF</td>\n",
              "      <td>S, M, L, XL</td>\n",
              "      <td>4.0</td>\n",
              "      <td>999.0</td>\n",
              "    </tr>\n",
              "    <tr>\n",
              "      <th>2</th>\n",
              "      <td>https://www.myntra.com/shirts/roadster/roadste...</td>\n",
              "      <td>11895958</td>\n",
              "      <td>Roadster</td>\n",
              "      <td>Topwear</td>\n",
              "      <td>shirts</td>\n",
              "      <td>Men</td>\n",
              "      <td>roadster men navy white  black geometric print...</td>\n",
              "      <td>629.0</td>\n",
              "      <td>1399.0</td>\n",
              "      <td>55% OFF</td>\n",
              "      <td>38, 40, 42, 44, 46, 48</td>\n",
              "      <td>4.3</td>\n",
              "      <td>999.0</td>\n",
              "    </tr>\n",
              "    <tr>\n",
              "      <th>3</th>\n",
              "      <td>https://www.myntra.com/shapewear/zivame/zivame...</td>\n",
              "      <td>4335679</td>\n",
              "      <td>Zivame</td>\n",
              "      <td>Lingerie &amp; Sleep Wear</td>\n",
              "      <td>shapewear</td>\n",
              "      <td>Women</td>\n",
              "      <td>zivame women black saree shapewear zi3023core0...</td>\n",
              "      <td>893.0</td>\n",
              "      <td>1295.0</td>\n",
              "      <td>31% OFF</td>\n",
              "      <td>S, M, L, XL, XXL</td>\n",
              "      <td>4.2</td>\n",
              "      <td>999.0</td>\n",
              "    </tr>\n",
              "    <tr>\n",
              "      <th>4</th>\n",
              "      <td>https://www.myntra.com/tshirts/roadster/roadst...</td>\n",
              "      <td>11690882</td>\n",
              "      <td>Roadster</td>\n",
              "      <td>Western</td>\n",
              "      <td>tshirts</td>\n",
              "      <td>Women</td>\n",
              "      <td>roadster women white solid v neck pure cotton ...</td>\n",
              "      <td>NaN</td>\n",
              "      <td>599.0</td>\n",
              "      <td>35% OFF</td>\n",
              "      <td>XS, S, M, L, XL</td>\n",
              "      <td>4.2</td>\n",
              "      <td>999.0</td>\n",
              "    </tr>\n",
              "  </tbody>\n",
              "</table>\n",
              "</div>"
            ],
            "text/plain": [
              "                                                 URL  Product_id   BrandName  \\\n",
              "0  https://www.myntra.com/jeans/roadster/roadster...     2296012    Roadster   \n",
              "1  https://www.myntra.com/track-pants/locomotive/...    13780156  LOCOMOTIVE   \n",
              "2  https://www.myntra.com/shirts/roadster/roadste...    11895958    Roadster   \n",
              "3  https://www.myntra.com/shapewear/zivame/zivame...     4335679      Zivame   \n",
              "4  https://www.myntra.com/tshirts/roadster/roadst...    11690882    Roadster   \n",
              "\n",
              "                Category Individual_category category_by_Gender  \\\n",
              "0            Bottom Wear               jeans                Men   \n",
              "1            Bottom Wear         track-pants                Men   \n",
              "2                Topwear              shirts                Men   \n",
              "3  Lingerie & Sleep Wear           shapewear              Women   \n",
              "4                Western             tshirts              Women   \n",
              "\n",
              "                                         Description  DiscountPrice  \\\n",
              "0  roadster men navy blue slim fit mid rise clean...          824.0   \n",
              "1  locomotive men black  white solid slim fit tra...          517.0   \n",
              "2  roadster men navy white  black geometric print...          629.0   \n",
              "3  zivame women black saree shapewear zi3023core0...          893.0   \n",
              "4  roadster women white solid v neck pure cotton ...            NaN   \n",
              "\n",
              "   OriginalPrice (in Rs) DiscountOffer              SizeOption  Ratings  \\\n",
              "0                 1499.0       45% OFF      28, 30, 32, 34, 36      3.9   \n",
              "1                 1149.0       55% OFF             S, M, L, XL      4.0   \n",
              "2                 1399.0       55% OFF  38, 40, 42, 44, 46, 48      4.3   \n",
              "3                 1295.0       31% OFF        S, M, L, XL, XXL      4.2   \n",
              "4                  599.0       35% OFF         XS, S, M, L, XL      4.2   \n",
              "\n",
              "   Reviews  \n",
              "0    999.0  \n",
              "1    999.0  \n",
              "2    999.0  \n",
              "3    999.0  \n",
              "4    999.0  "
            ]
          },
          "execution_count": 22,
          "metadata": {},
          "output_type": "execute_result"
        }
      ],
      "source": [
        "data1.head()"
      ]
    },
    {
      "cell_type": "markdown",
      "id": "8dbad004",
      "metadata": {
        "id": "8dbad004"
      },
      "source": [
        "### As you can see in above table (in Rs ) has removed."
      ]
    },
    {
      "cell_type": "markdown",
      "id": "d10f50e1",
      "metadata": {
        "id": "d10f50e1"
      },
      "source": [
        "### Lets find the total null value in this section"
      ]
    },
    {
      "cell_type": "code",
      "execution_count": null,
      "id": "39c23b9e",
      "metadata": {
        "id": "39c23b9e",
        "outputId": "1dac9d09-32c6-4564-c85c-4f2f0225fdd9"
      },
      "outputs": [
        {
          "data": {
            "text/plain": [
              "193158"
            ]
          },
          "execution_count": 23,
          "metadata": {},
          "output_type": "execute_result"
        }
      ],
      "source": [
        "data1.DiscountPrice.isnull().sum()"
      ]
    },
    {
      "cell_type": "markdown",
      "id": "2ed5c807",
      "metadata": {
        "id": "2ed5c807"
      },
      "source": [
        "### Check the %age of missing value."
      ]
    },
    {
      "cell_type": "code",
      "execution_count": null,
      "id": "95cbe263",
      "metadata": {
        "id": "95cbe263",
        "outputId": "d8d49d35-d0c7-4de6-ad3a-ddc9c4075fa8"
      },
      "outputs": [
        {
          "data": {
            "text/plain": [
              "36.68272042904566"
            ]
          },
          "execution_count": 24,
          "metadata": {},
          "output_type": "execute_result"
        }
      ],
      "source": [
        "float(100.0*193158/526564)"
      ]
    },
    {
      "cell_type": "markdown",
      "id": "907f3917",
      "metadata": {
        "id": "907f3917"
      },
      "source": [
        "### Again here also %age is high so we can't ignore it that's why we will find out its mean, store it in another variable and impute it."
      ]
    },
    {
      "cell_type": "code",
      "execution_count": null,
      "id": "53bcc8a1",
      "metadata": {
        "id": "53bcc8a1"
      },
      "outputs": [],
      "source": [
        "DiscountPrice_mean=data1.DiscountPrice.mean()"
      ]
    },
    {
      "cell_type": "markdown",
      "id": "f8895223",
      "metadata": {
        "id": "f8895223"
      },
      "source": [
        "### fill the missing values with the mean."
      ]
    },
    {
      "cell_type": "code",
      "execution_count": null,
      "id": "cbd7acc3",
      "metadata": {
        "id": "cbd7acc3"
      },
      "outputs": [],
      "source": [
        "data1.DiscountPrice.fillna(DiscountPrice_mean, inplace= True)"
      ]
    },
    {
      "cell_type": "markdown",
      "id": "93f157d9",
      "metadata": {
        "id": "93f157d9"
      },
      "source": [
        "### After imputing mean value ,Lets check the null value"
      ]
    },
    {
      "cell_type": "code",
      "execution_count": null,
      "id": "4e172108",
      "metadata": {
        "id": "4e172108",
        "outputId": "19c39cf5-fbd0-4365-e0f4-456c1cec3c8c"
      },
      "outputs": [
        {
          "data": {
            "text/plain": [
              "0"
            ]
          },
          "execution_count": 23,
          "metadata": {},
          "output_type": "execute_result"
        }
      ],
      "source": [
        "data1.DiscountPrice.isnull().sum()"
      ]
    },
    {
      "cell_type": "markdown",
      "id": "5fe25af1",
      "metadata": {
        "id": "5fe25af1"
      },
      "source": [
        "## DISCOUNT OFFER"
      ]
    },
    {
      "cell_type": "markdown",
      "id": "11bea030",
      "metadata": {
        "id": "11bea030"
      },
      "source": [
        "### Check the missing values in Discount Offer"
      ]
    },
    {
      "cell_type": "code",
      "execution_count": null,
      "id": "3129f460",
      "metadata": {
        "id": "3129f460",
        "outputId": "5833a6ef-881b-4b1b-b977-30772a7ec51f"
      },
      "outputs": [
        {
          "data": {
            "text/plain": [
              "74306"
            ]
          },
          "execution_count": 24,
          "metadata": {},
          "output_type": "execute_result"
        }
      ],
      "source": [
        "data1.DiscountOffer.isnull().sum()"
      ]
    },
    {
      "cell_type": "markdown",
      "id": "11719e38",
      "metadata": {
        "id": "11719e38"
      },
      "source": [
        "### Find the %age of missing value"
      ]
    },
    {
      "cell_type": "code",
      "execution_count": null,
      "id": "721bada7",
      "metadata": {
        "id": "721bada7",
        "outputId": "be6824f2-eaad-4b5a-c931-1fc13bd31909"
      },
      "outputs": [
        {
          "data": {
            "text/plain": [
              "14.11148502366284"
            ]
          },
          "execution_count": 25,
          "metadata": {},
          "output_type": "execute_result"
        }
      ],
      "source": [
        "float(100.0*74306/526564)"
      ]
    },
    {
      "cell_type": "markdown",
      "id": "f7e6f234",
      "metadata": {
        "id": "f7e6f234"
      },
      "source": [
        "### Here %age is not high as earlier was and this colum has mixture of Dicount %age and Price so its not suitable to use mean or Remove the column hence, I decided to impute 0 at null place so it has no impct on data."
      ]
    },
    {
      "cell_type": "code",
      "execution_count": null,
      "id": "df34d024",
      "metadata": {
        "id": "df34d024"
      },
      "outputs": [],
      "source": [
        " data1.DiscountOffer.fillna(0, inplace= True)"
      ]
    },
    {
      "cell_type": "markdown",
      "id": "00c71abf",
      "metadata": {
        "id": "00c71abf"
      },
      "source": [
        "### Check for the null values in Discount section.\n"
      ]
    },
    {
      "cell_type": "code",
      "execution_count": null,
      "id": "cfe5f647",
      "metadata": {
        "id": "cfe5f647",
        "outputId": "1eb0ff68-188b-4dc5-9274-18ad1ceda761"
      },
      "outputs": [
        {
          "data": {
            "text/plain": [
              "0"
            ]
          },
          "execution_count": 28,
          "metadata": {},
          "output_type": "execute_result"
        }
      ],
      "source": [
        "data1.DiscountOffer.isnull().sum()"
      ]
    },
    {
      "cell_type": "markdown",
      "id": "7725fe90",
      "metadata": {
        "id": "7725fe90"
      },
      "source": [
        "# Visualizing the Data"
      ]
    },
    {
      "cell_type": "markdown",
      "id": "df28c514",
      "metadata": {
        "id": "df28c514"
      },
      "source": [
        "## Checking for outliers-"
      ]
    },
    {
      "cell_type": "markdown",
      "id": "220e5562",
      "metadata": {
        "id": "220e5562"
      },
      "source": [
        "### Outliers-The values that fall more than three standard deviation from the mean they are typically Outliers."
      ]
    },
    {
      "cell_type": "code",
      "execution_count": null,
      "id": "0b84eb97",
      "metadata": {
        "id": "0b84eb97",
        "outputId": "09a67d87-f543-4872-d667-718b1477441d"
      },
      "outputs": [
        {
          "name": "stderr",
          "output_type": "stream",
          "text": [
            "C:\\Users\\hp\\anaconda3\\lib\\site-packages\\seaborn\\_decorators.py:36: FutureWarning: Pass the following variable as a keyword arg: x. From version 0.12, the only valid positional argument will be `data`, and passing other arguments without an explicit keyword will result in an error or misinterpretation.\n",
            "  warnings.warn(\n"
          ]
        },
        {
          "data": {
            "text/plain": [
              "<AxesSubplot:xlabel='DiscountPrice'>"
            ]
          },
          "execution_count": 29,
          "metadata": {},
          "output_type": "execute_result"
        },
        {
          "data": {
            "image/png": "[encoded data removed]",
            "text/plain": [
              "<Figure size 432x288 with 1 Axes>"
            ]
          },
          "metadata": {
            "needs_background": "light"
          },
          "output_type": "display_data"
        }
      ],
      "source": [
        "sns.boxplot(data1['DiscountPrice'])"
      ]
    },
    {
      "cell_type": "markdown",
      "id": "6bdf0e14",
      "metadata": {
        "id": "6bdf0e14"
      },
      "source": [
        "### As i was trying detect the outliers of Original price but it show Syntax error because of its name so i will first change the name of that particualr column"
      ]
    },
    {
      "cell_type": "code",
      "execution_count": null,
      "id": "1a4ad01a",
      "metadata": {
        "id": "1a4ad01a"
      },
      "outputs": [],
      "source": [
        "data1=data.rename(columns = {'OriginalPrice (in Rs)':'OriginalPrice'})"
      ]
    },
    {
      "cell_type": "markdown",
      "id": "e7b5fc3d",
      "metadata": {
        "id": "e7b5fc3d"
      },
      "source": [
        "### Check wether name has changed or not."
      ]
    },
    {
      "cell_type": "code",
      "execution_count": null,
      "id": "91a77e5b",
      "metadata": {
        "id": "91a77e5b",
        "outputId": "fe32d0b8-c183-4b88-cd0d-43e13ef43f5e"
      },
      "outputs": [
        {
          "data": {
            "text/html": [
              "<div>\n",
              "<style scoped>\n",
              "    .dataframe tbody tr th:only-of-type {\n",
              "        vertical-align: middle;\n",
              "    }\n",
              "\n",
              "    .dataframe tbody tr th {\n",
              "        vertical-align: top;\n",
              "    }\n",
              "\n",
              "    .dataframe thead th {\n",
              "        text-align: right;\n",
              "    }\n",
              "</style>\n",
              "<table border=\"1\" class=\"dataframe\">\n",
              "  <thead>\n",
              "    <tr style=\"text-align: right;\">\n",
              "      <th></th>\n",
              "      <th>URL</th>\n",
              "      <th>Product_id</th>\n",
              "      <th>BrandName</th>\n",
              "      <th>Category</th>\n",
              "      <th>Individual_category</th>\n",
              "      <th>category_by_Gender</th>\n",
              "      <th>Description</th>\n",
              "      <th>DiscountPrice (in Rs)</th>\n",
              "      <th>OriginalPrice</th>\n",
              "      <th>DiscountOffer</th>\n",
              "      <th>SizeOption</th>\n",
              "      <th>Ratings</th>\n",
              "      <th>Reviews</th>\n",
              "    </tr>\n",
              "  </thead>\n",
              "  <tbody>\n",
              "    <tr>\n",
              "      <th>0</th>\n",
              "      <td>https://www.myntra.com/jeans/roadster/roadster...</td>\n",
              "      <td>2296012</td>\n",
              "      <td>Roadster</td>\n",
              "      <td>Bottom Wear</td>\n",
              "      <td>jeans</td>\n",
              "      <td>Men</td>\n",
              "      <td>roadster men navy blue slim fit mid rise clean...</td>\n",
              "      <td>824.0</td>\n",
              "      <td>1499.0</td>\n",
              "      <td>45% OFF</td>\n",
              "      <td>28, 30, 32, 34, 36</td>\n",
              "      <td>3.9</td>\n",
              "      <td>999.0</td>\n",
              "    </tr>\n",
              "    <tr>\n",
              "      <th>1</th>\n",
              "      <td>https://www.myntra.com/track-pants/locomotive/...</td>\n",
              "      <td>13780156</td>\n",
              "      <td>LOCOMOTIVE</td>\n",
              "      <td>Bottom Wear</td>\n",
              "      <td>track-pants</td>\n",
              "      <td>Men</td>\n",
              "      <td>locomotive men black  white solid slim fit tra...</td>\n",
              "      <td>517.0</td>\n",
              "      <td>1149.0</td>\n",
              "      <td>55% OFF</td>\n",
              "      <td>S, M, L, XL</td>\n",
              "      <td>4.0</td>\n",
              "      <td>999.0</td>\n",
              "    </tr>\n",
              "    <tr>\n",
              "      <th>2</th>\n",
              "      <td>https://www.myntra.com/shirts/roadster/roadste...</td>\n",
              "      <td>11895958</td>\n",
              "      <td>Roadster</td>\n",
              "      <td>Topwear</td>\n",
              "      <td>shirts</td>\n",
              "      <td>Men</td>\n",
              "      <td>roadster men navy white  black geometric print...</td>\n",
              "      <td>629.0</td>\n",
              "      <td>1399.0</td>\n",
              "      <td>55% OFF</td>\n",
              "      <td>38, 40, 42, 44, 46, 48</td>\n",
              "      <td>4.3</td>\n",
              "      <td>999.0</td>\n",
              "    </tr>\n",
              "    <tr>\n",
              "      <th>3</th>\n",
              "      <td>https://www.myntra.com/shapewear/zivame/zivame...</td>\n",
              "      <td>4335679</td>\n",
              "      <td>Zivame</td>\n",
              "      <td>Lingerie &amp; Sleep Wear</td>\n",
              "      <td>shapewear</td>\n",
              "      <td>Women</td>\n",
              "      <td>zivame women black saree shapewear zi3023core0...</td>\n",
              "      <td>893.0</td>\n",
              "      <td>1295.0</td>\n",
              "      <td>31% OFF</td>\n",
              "      <td>S, M, L, XL, XXL</td>\n",
              "      <td>4.2</td>\n",
              "      <td>999.0</td>\n",
              "    </tr>\n",
              "    <tr>\n",
              "      <th>4</th>\n",
              "      <td>https://www.myntra.com/tshirts/roadster/roadst...</td>\n",
              "      <td>11690882</td>\n",
              "      <td>Roadster</td>\n",
              "      <td>Western</td>\n",
              "      <td>tshirts</td>\n",
              "      <td>Women</td>\n",
              "      <td>roadster women white solid v neck pure cotton ...</td>\n",
              "      <td>NaN</td>\n",
              "      <td>599.0</td>\n",
              "      <td>35% OFF</td>\n",
              "      <td>XS, S, M, L, XL</td>\n",
              "      <td>4.2</td>\n",
              "      <td>999.0</td>\n",
              "    </tr>\n",
              "  </tbody>\n",
              "</table>\n",
              "</div>"
            ],
            "text/plain": [
              "                                                 URL  Product_id   BrandName  \\\n",
              "0  https://www.myntra.com/jeans/roadster/roadster...     2296012    Roadster   \n",
              "1  https://www.myntra.com/track-pants/locomotive/...    13780156  LOCOMOTIVE   \n",
              "2  https://www.myntra.com/shirts/roadster/roadste...    11895958    Roadster   \n",
              "3  https://www.myntra.com/shapewear/zivame/zivame...     4335679      Zivame   \n",
              "4  https://www.myntra.com/tshirts/roadster/roadst...    11690882    Roadster   \n",
              "\n",
              "                Category Individual_category category_by_Gender  \\\n",
              "0            Bottom Wear               jeans                Men   \n",
              "1            Bottom Wear         track-pants                Men   \n",
              "2                Topwear              shirts                Men   \n",
              "3  Lingerie & Sleep Wear           shapewear              Women   \n",
              "4                Western             tshirts              Women   \n",
              "\n",
              "                                         Description  DiscountPrice (in Rs)  \\\n",
              "0  roadster men navy blue slim fit mid rise clean...                  824.0   \n",
              "1  locomotive men black  white solid slim fit tra...                  517.0   \n",
              "2  roadster men navy white  black geometric print...                  629.0   \n",
              "3  zivame women black saree shapewear zi3023core0...                  893.0   \n",
              "4  roadster women white solid v neck pure cotton ...                    NaN   \n",
              "\n",
              "   OriginalPrice DiscountOffer              SizeOption  Ratings  Reviews  \n",
              "0         1499.0       45% OFF      28, 30, 32, 34, 36      3.9    999.0  \n",
              "1         1149.0       55% OFF             S, M, L, XL      4.0    999.0  \n",
              "2         1399.0       55% OFF  38, 40, 42, 44, 46, 48      4.3    999.0  \n",
              "3         1295.0       31% OFF        S, M, L, XL, XXL      4.2    999.0  \n",
              "4          599.0       35% OFF         XS, S, M, L, XL      4.2    999.0  "
            ]
          },
          "execution_count": 32,
          "metadata": {},
          "output_type": "execute_result"
        }
      ],
      "source": [
        "data1.head()"
      ]
    },
    {
      "cell_type": "code",
      "execution_count": null,
      "id": "5b0bfacb",
      "metadata": {
        "id": "5b0bfacb",
        "outputId": "6a5645bc-24cb-446a-ad46-26a0479c2bda"
      },
      "outputs": [
        {
          "name": "stderr",
          "output_type": "stream",
          "text": [
            "C:\\Users\\hp\\anaconda3\\lib\\site-packages\\seaborn\\_decorators.py:36: FutureWarning: Pass the following variable as a keyword arg: x. From version 0.12, the only valid positional argument will be `data`, and passing other arguments without an explicit keyword will result in an error or misinterpretation.\n",
            "  warnings.warn(\n"
          ]
        },
        {
          "data": {
            "text/plain": [
              "<AxesSubplot:xlabel='OriginalPrice'>"
            ]
          },
          "execution_count": 33,
          "metadata": {},
          "output_type": "execute_result"
        },
        {
          "data": {
            "image/png": "[encoded data removed]",
            "text/plain": [
              "<Figure size 432x288 with 1 Axes>"
            ]
          },
          "metadata": {
            "needs_background": "light"
          },
          "output_type": "display_data"
        }
      ],
      "source": [
        "sns.boxplot(data1['OriginalPrice'])"
      ]
    },
    {
      "cell_type": "code",
      "execution_count": null,
      "id": "7539a1d0",
      "metadata": {
        "id": "7539a1d0",
        "outputId": "8ebfeed3-060c-4a78-f012-880b65325820"
      },
      "outputs": [
        {
          "name": "stdout",
          "output_type": "stream",
          "text": [
            "(array([   353,    378,    877, ..., 526560, 526561, 526562], dtype=int64),)\n"
          ]
        }
      ],
      "source": [
        "# Position of the Outlier\n",
        "print(np.where(data1['OriginalPrice']>6000))"
      ]
    },
    {
      "cell_type": "markdown",
      "id": "95a849e2",
      "metadata": {
        "id": "95a849e2"
      },
      "source": [
        "### Here we get outlier value above 6k so we are going to drop it using IQR."
      ]
    },
    {
      "cell_type": "markdown",
      "id": "4a1b5378",
      "metadata": {
        "id": "4a1b5378"
      },
      "source": [
        "## IQR"
      ]
    },
    {
      "cell_type": "markdown",
      "id": "f4076141",
      "metadata": {
        "id": "f4076141"
      },
      "source": [
        "### The interquartile range (IQR) is the range of values that resides in the middle of the scores. When a distribution is skewed, and the median is used instead of the mean to show a central tendency, the appropriate measure of variability is the Interquartile range. Q1 – Lower Quartile Part. Q2 – Median."
      ]
    },
    {
      "cell_type": "markdown",
      "id": "a3fc8a32",
      "metadata": {
        "id": "a3fc8a32"
      },
      "source": [
        "## IQR=Q3-Q1"
      ]
    },
    {
      "cell_type": "code",
      "execution_count": null,
      "id": "2f15ec3c",
      "metadata": {
        "id": "2f15ec3c",
        "outputId": "a44037af-7324-4d86-bf7b-ad0be280a5c2"
      },
      "outputs": [
        {
          "name": "stdout",
          "output_type": "stream",
          "text": [
            "Old Shape:  (526564, 13)\n",
            "New Shape:  (492848, 13)\n"
          ]
        }
      ],
      "source": [
        "Q1 = np.percentile(data1['OriginalPrice'], 25,\n",
        "                   interpolation = 'midpoint')\n",
        " \n",
        "Q3 = np.percentile(data1['OriginalPrice'], 75,\n",
        "                   interpolation = 'midpoint')\n",
        "IQR = Q3 - Q1\n",
        "print(\"Old Shape: \", data1.shape)\n",
        " \n",
        "# Upper bound\n",
        "upper = np.where(data1['OriginalPrice'] >= (Q3+1.5*IQR))\n",
        "# Lower bound\n",
        "lower = np.where(data1['OriginalPrice'] <= (Q1-1.5*IQR))\n",
        " \n",
        "''' Removing the Outliers '''\n",
        "data1.drop(upper[0], inplace = True)\n",
        "data1.drop(lower[0], inplace = True)\n",
        " \n",
        "print(\"New Shape: \", data1.shape)"
      ]
    },
    {
      "cell_type": "markdown",
      "id": "c9b9128f",
      "metadata": {
        "id": "c9b9128f"
      },
      "source": [
        "### In above cell, Old shape is shape of dataset with particular column(Original price) and New shape is shape of the dataset after removing Outliers."
      ]
    },
    {
      "cell_type": "code",
      "execution_count": null,
      "id": "cb10b540",
      "metadata": {
        "id": "cb10b540"
      },
      "outputs": [],
      "source": []
    }
  ],
  "metadata": {
    "kernelspec": {
      "display_name": "Python 3 (ipykernel)",
      "language": "python",
      "name": "python3"
    },
    "language_info": {
      "codemirror_mode": {
        "name": "ipython",
        "version": 3
      },
      "file_extension": ".py",
      "mimetype": "text/x-python",
      "name": "python",
      "nbconvert_exporter": "python",
      "pygments_lexer": "ipython3",
      "version": "3.9.7"
    },
    "colab": {
      "provenance": [],
      "include_colab_link": true
    }
  },
  "nbformat": 4,
  "nbformat_minor": 5
}